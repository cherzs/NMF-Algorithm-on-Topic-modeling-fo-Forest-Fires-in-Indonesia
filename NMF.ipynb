{
  "cells": [
    {
      "cell_type": "code",
      "execution_count": 1,
      "metadata": {
        "colab": {
          "base_uri": "https://localhost:8080/"
        },
        "id": "kjHKV8Jzy1ui",
        "outputId": "7801a43a-4a85-4151-d350-de875ff57dd2"
      },
      "outputs": [
        {
          "name": "stdout",
          "output_type": "stream",
          "text": [
            "Collecting Sastrawi\n",
            "  Downloading Sastrawi-1.0.1-py2.py3-none-any.whl (209 kB)\n",
            "     -------------------------------------- 209.7/209.7 kB 2.1 MB/s eta 0:00:00\n",
            "Installing collected packages: Sastrawi\n",
            "Successfully installed Sastrawi-1.0.1\n"
          ]
        },
        {
          "name": "stderr",
          "output_type": "stream",
          "text": [
            "\n",
            "[notice] A new release of pip is available: 23.0.1 -> 23.1.2\n",
            "[notice] To update, run: python.exe -m pip install --upgrade pip\n"
          ]
        }
      ],
      "source": [
        "!pip install Sastrawi"
      ]
    },
    {
      "cell_type": "code",
      "execution_count": 2,
      "metadata": {
        "id": "W95DzKRfMZ-Q"
      },
      "outputs": [
        {
          "name": "stdout",
          "output_type": "stream",
          "text": [
            "Requirement already satisfied: spacy in c:\\users\\zhafr\\anaconda3\\lib\\site-packages (3.5.1)\n",
            "Requirement already satisfied: wasabi<1.2.0,>=0.9.1 in c:\\users\\zhafr\\anaconda3\\lib\\site-packages (from spacy) (1.1.1)\n",
            "Requirement already satisfied: langcodes<4.0.0,>=3.2.0 in c:\\users\\zhafr\\anaconda3\\lib\\site-packages (from spacy) (3.3.0)\n",
            "Requirement already satisfied: pathy>=0.10.0 in c:\\users\\zhafr\\anaconda3\\lib\\site-packages (from spacy) (0.10.1)\n",
            "Requirement already satisfied: tqdm<5.0.0,>=4.38.0 in c:\\users\\zhafr\\anaconda3\\lib\\site-packages (from spacy) (4.64.1)\n",
            "Requirement already satisfied: setuptools in c:\\users\\zhafr\\anaconda3\\lib\\site-packages (from spacy) (67.7.2)\n",
            "Requirement already satisfied: thinc<8.2.0,>=8.1.8 in c:\\users\\zhafr\\anaconda3\\lib\\site-packages (from spacy) (8.1.9)\n",
            "Requirement already satisfied: smart-open<7.0.0,>=5.2.1 in c:\\users\\zhafr\\anaconda3\\lib\\site-packages (from spacy) (6.3.0)\n",
            "Requirement already satisfied: typer<0.8.0,>=0.3.0 in c:\\users\\zhafr\\anaconda3\\lib\\site-packages (from spacy) (0.7.0)\n",
            "Requirement already satisfied: cymem<2.1.0,>=2.0.2 in c:\\users\\zhafr\\anaconda3\\lib\\site-packages (from spacy) (2.0.7)\n",
            "Requirement already satisfied: requests<3.0.0,>=2.13.0 in c:\\users\\zhafr\\anaconda3\\lib\\site-packages (from spacy) (2.28.1)\n",
            "Requirement already satisfied: srsly<3.0.0,>=2.4.3 in c:\\users\\zhafr\\anaconda3\\lib\\site-packages (from spacy) (2.4.6)\n",
            "Requirement already satisfied: murmurhash<1.1.0,>=0.28.0 in c:\\users\\zhafr\\anaconda3\\lib\\site-packages (from spacy) (1.0.9)\n",
            "Requirement already satisfied: preshed<3.1.0,>=3.0.2 in c:\\users\\zhafr\\anaconda3\\lib\\site-packages (from spacy) (3.0.8)\n",
            "Requirement already satisfied: jinja2 in c:\\users\\zhafr\\anaconda3\\lib\\site-packages (from spacy) (3.1.2)\n",
            "Requirement already satisfied: catalogue<2.1.0,>=2.0.6 in c:\\users\\zhafr\\anaconda3\\lib\\site-packages (from spacy) (2.0.8)\n",
            "Requirement already satisfied: packaging>=20.0 in c:\\users\\zhafr\\anaconda3\\lib\\site-packages (from spacy) (21.3)\n",
            "Requirement already satisfied: spacy-legacy<3.1.0,>=3.0.11 in c:\\users\\zhafr\\anaconda3\\lib\\site-packages (from spacy) (3.0.12)\n",
            "Requirement already satisfied: spacy-loggers<2.0.0,>=1.0.0 in c:\\users\\zhafr\\anaconda3\\lib\\site-packages (from spacy) (1.0.4)\n",
            "Requirement already satisfied: pydantic!=1.8,!=1.8.1,<1.11.0,>=1.7.4 in c:\\users\\zhafr\\anaconda3\\lib\\site-packages (from spacy) (1.10.6)\n",
            "Requirement already satisfied: numpy>=1.15.0 in c:\\users\\zhafr\\anaconda3\\lib\\site-packages (from spacy) (1.24.3)\n",
            "Requirement already satisfied: pyparsing!=3.0.5,>=2.0.2 in c:\\users\\zhafr\\anaconda3\\lib\\site-packages (from packaging>=20.0->spacy) (3.0.9)\n",
            "Requirement already satisfied: typing-extensions>=4.2.0 in c:\\users\\zhafr\\anaconda3\\lib\\site-packages (from pydantic!=1.8,!=1.8.1,<1.11.0,>=1.7.4->spacy) (4.3.0)\n",
            "Requirement already satisfied: charset-normalizer<3,>=2 in c:\\users\\zhafr\\anaconda3\\lib\\site-packages (from requests<3.0.0,>=2.13.0->spacy) (2.0.4)\n",
            "Requirement already satisfied: certifi>=2017.4.17 in c:\\users\\zhafr\\anaconda3\\lib\\site-packages (from requests<3.0.0,>=2.13.0->spacy) (2022.9.14)\n",
            "Requirement already satisfied: idna<4,>=2.5 in c:\\users\\zhafr\\anaconda3\\lib\\site-packages (from requests<3.0.0,>=2.13.0->spacy) (3.3)\n",
            "Requirement already satisfied: urllib3<1.27,>=1.21.1 in c:\\users\\zhafr\\anaconda3\\lib\\site-packages (from requests<3.0.0,>=2.13.0->spacy) (1.26.11)\n",
            "Requirement already satisfied: blis<0.8.0,>=0.7.8 in c:\\users\\zhafr\\anaconda3\\lib\\site-packages (from thinc<8.2.0,>=8.1.8->spacy) (0.7.9)\n",
            "Requirement already satisfied: confection<1.0.0,>=0.0.1 in c:\\users\\zhafr\\anaconda3\\lib\\site-packages (from thinc<8.2.0,>=8.1.8->spacy) (0.0.4)\n",
            "Requirement already satisfied: colorama in c:\\users\\zhafr\\anaconda3\\lib\\site-packages (from tqdm<5.0.0,>=4.38.0->spacy) (0.4.6)\n",
            "Requirement already satisfied: click<9.0.0,>=7.1.1 in c:\\users\\zhafr\\anaconda3\\lib\\site-packages (from typer<0.8.0,>=0.3.0->spacy) (8.0.4)\n",
            "Requirement already satisfied: MarkupSafe>=2.0 in c:\\users\\zhafr\\anaconda3\\lib\\site-packages (from jinja2->spacy) (2.1.2)\n"
          ]
        },
        {
          "name": "stderr",
          "output_type": "stream",
          "text": [
            "\n",
            "[notice] A new release of pip is available: 23.0.1 -> 23.1.2\n",
            "[notice] To update, run: python.exe -m pip install --upgrade pip\n"
          ]
        }
      ],
      "source": [
        "!pip install spacy"
      ]
    },
    {
      "cell_type": "code",
      "execution_count": 3,
      "metadata": {
        "colab": {
          "base_uri": "https://localhost:8080/"
        },
        "id": "cAysdAO5kmY5",
        "outputId": "f2089155-f576-4110-b6e7-1c8ff17300e5"
      },
      "outputs": [
        {
          "name": "stderr",
          "output_type": "stream",
          "text": [
            "c:\\Users\\zhafr\\anaconda3\\lib\\site-packages\\paramiko\\transport.py:219: CryptographyDeprecationWarning: Blowfish has been deprecated\n",
            "  \"class\": algorithms.Blowfish,\n"
          ]
        }
      ],
      "source": [
        "import pandas as pd\n",
        "import numpy as np\n",
        "import re\n",
        "from sklearn.feature_extraction.text import TfidfVectorizer\n",
        "from sklearn.decomposition import NMF\n",
        "from sklearn.preprocessing import Normalizer\n",
        "from gensim.models.nmf import Nmf\n",
        "import matplotlib.pyplot as plt\n",
        "import seaborn as sns\n",
        "from sklearn.manifold import TSNE\n",
        "import plotly.graph_objs as go\n",
        "from plotly.offline import iplot\n",
        "#import nltk\n",
        "#nltk.download('stopwords')\n",
        "#from nltk.corpus import stopwords\n",
        "from Sastrawi.Stemmer.StemmerFactory import StemmerFactory\n",
        "from Sastrawi.StopWordRemover.StopWordRemoverFactory import StopWordRemoverFactory\n",
        "stemmer_factory = StemmerFactory()\n",
        "stemmer = stemmer_factory.create_stemmer()\n",
        "from sklearn.decomposition import TruncatedSVD\n",
        "from sklearn.pipeline import make_pipeline"
      ]
    },
    {
      "cell_type": "code",
      "execution_count": 12,
      "metadata": {
        "colab": {
          "base_uri": "https://localhost:8080/"
        },
        "id": "8YXVtsGk1kiv",
        "outputId": "ebe1673e-8ca0-41d6-e25b-4f26f8b3af5e"
      },
      "outputs": [
        {
          "name": "stdout",
          "output_type": "stream",
          "text": [
            "<class 'pandas.core.frame.DataFrame'>\n",
            "RangeIndex: 1863 entries, 0 to 1862\n",
            "Data columns (total 2 columns):\n",
            " #   Column    Non-Null Count  Dtype \n",
            "---  ------    --------------  ----- \n",
            " 0   titles    1863 non-null   object\n",
            " 1   articles  1863 non-null   object\n",
            "dtypes: object(2)\n",
            "memory usage: 29.2+ KB\n"
          ]
        }
      ],
      "source": [
        "# Load the data\n",
        "df = pd.read_excel(r'C:\\Users\\zhafr\\OneDrive\\Documents\\Dataset\\forestFires-dataset.xlsx')\n",
        "df = df[['titles', 'articles']]\n",
        "df.drop_duplicates(inplace=True)\n",
        "df.head()\n",
        "df.info()"
      ]
    },
    {
      "cell_type": "code",
      "execution_count": 13,
      "metadata": {
        "id": "Pa4STm9O1muw"
      },
      "outputs": [],
      "source": [
        "# Define function to clean the text\n",
        "def clean_text(text):\n",
        "    text = re.sub(r'[^a-zA-Z0-9\\s]', '', text)\n",
        "    text = text.lower()\n",
        "    return text\n",
        "\n",
        "# Apply text cleaning\n",
        "df['cleaned_articles'] = df['articles'].apply(clean_text)"
      ]
    },
    {
      "cell_type": "code",
      "execution_count": 14,
      "metadata": {
        "id": "MPDIKAtO1uAW"
      },
      "outputs": [],
      "source": [
        "# Vectorize the text using TfidfVectorizer\n",
        "stop_words = ['dan', 'the', 'di', 'dari', 'ke', '\\n', 'ago', 'days', 'doyoung', \n",
        "              'hee', 'julian', 'band', 'connelly', 'bts', 'jennifer', 'won', 'picchu', \n",
        "              'machu', 'suga', 'film', 'sesar', 'yellen',\n",
        "              'prasmul', 'maverick', 'labyrinth', 'memaklumkan', 'menceritakan', \n",
        "              'waterloo', 'dataset', 'fincapes', 'dibintangi', 'elsa',\n",
        "              'klhk', 'kementerian', 'ha', 'restorasi', 'emisi', 'hektare', 'karbon', 'juta', 'siti', 'gambut']\n",
        "\n",
        "vectorizer = TfidfVectorizer(max_df=0.5, min_df=2, stop_words=stop_words)\n",
        "vectorized_text = vectorizer.fit_transform(df['cleaned_articles'])"
      ]
    },
    {
      "cell_type": "code",
      "execution_count": 15,
      "metadata": {
        "id": "hcUoNWNG1vws"
      },
      "outputs": [],
      "source": [
        "# Define function to display the topics\n",
        "def display_topics(model, feature_names_out, no_top_words):\n",
        "    topic_dict = {}\n",
        "    for topic_idx, topic in enumerate(model.components_):\n",
        "        topic_dict[\"Topic %d words\" % (topic_idx)] = ['{}'.format(feature_names_out[i]) for i in topic.argsort()[:-no_top_words - 1:-1]]\n",
        "        topic_dict[\"Topic %d weights\" % (topic_idx)] = ['{:.1f}'.format(topic[i]) for i in topic.argsort()[:-no_top_words - 1:-1]]\n",
        "    return pd.DataFrame(topic_dict)"
      ]
    },
    {
      "cell_type": "code",
      "execution_count": 16,
      "metadata": {
        "colab": {
          "base_uri": "https://localhost:8080/",
          "height": 144
        },
        "id": "k0SyHUDK1xRQ",
        "outputId": "f03b4536-fc27-41a8-e282-ade10572a2d3"
      },
      "outputs": [
        {
          "name": "stderr",
          "output_type": "stream",
          "text": [
            "c:\\Users\\zhafr\\anaconda3\\lib\\site-packages\\sklearn\\decomposition\\_nmf.py:1665: ConvergenceWarning:\n",
            "\n",
            "Maximum number of iterations 10 reached. Increase it to improve convergence.\n",
            "\n"
          ]
        },
        {
          "data": {
            "text/html": [
              "<style>#sk-container-id-1 {color: black;background-color: white;}#sk-container-id-1 pre{padding: 0;}#sk-container-id-1 div.sk-toggleable {background-color: white;}#sk-container-id-1 label.sk-toggleable__label {cursor: pointer;display: block;width: 100%;margin-bottom: 0;padding: 0.3em;box-sizing: border-box;text-align: center;}#sk-container-id-1 label.sk-toggleable__label-arrow:before {content: \"▸\";float: left;margin-right: 0.25em;color: #696969;}#sk-container-id-1 label.sk-toggleable__label-arrow:hover:before {color: black;}#sk-container-id-1 div.sk-estimator:hover label.sk-toggleable__label-arrow:before {color: black;}#sk-container-id-1 div.sk-toggleable__content {max-height: 0;max-width: 0;overflow: hidden;text-align: left;background-color: #f0f8ff;}#sk-container-id-1 div.sk-toggleable__content pre {margin: 0.2em;color: black;border-radius: 0.25em;background-color: #f0f8ff;}#sk-container-id-1 input.sk-toggleable__control:checked~div.sk-toggleable__content {max-height: 200px;max-width: 100%;overflow: auto;}#sk-container-id-1 input.sk-toggleable__control:checked~label.sk-toggleable__label-arrow:before {content: \"▾\";}#sk-container-id-1 div.sk-estimator input.sk-toggleable__control:checked~label.sk-toggleable__label {background-color: #d4ebff;}#sk-container-id-1 div.sk-label input.sk-toggleable__control:checked~label.sk-toggleable__label {background-color: #d4ebff;}#sk-container-id-1 input.sk-hidden--visually {border: 0;clip: rect(1px 1px 1px 1px);clip: rect(1px, 1px, 1px, 1px);height: 1px;margin: -1px;overflow: hidden;padding: 0;position: absolute;width: 1px;}#sk-container-id-1 div.sk-estimator {font-family: monospace;background-color: #f0f8ff;border: 1px dotted black;border-radius: 0.25em;box-sizing: border-box;margin-bottom: 0.5em;}#sk-container-id-1 div.sk-estimator:hover {background-color: #d4ebff;}#sk-container-id-1 div.sk-parallel-item::after {content: \"\";width: 100%;border-bottom: 1px solid gray;flex-grow: 1;}#sk-container-id-1 div.sk-label:hover label.sk-toggleable__label {background-color: #d4ebff;}#sk-container-id-1 div.sk-serial::before {content: \"\";position: absolute;border-left: 1px solid gray;box-sizing: border-box;top: 0;bottom: 0;left: 50%;z-index: 0;}#sk-container-id-1 div.sk-serial {display: flex;flex-direction: column;align-items: center;background-color: white;padding-right: 0.2em;padding-left: 0.2em;position: relative;}#sk-container-id-1 div.sk-item {position: relative;z-index: 1;}#sk-container-id-1 div.sk-parallel {display: flex;align-items: stretch;justify-content: center;background-color: white;position: relative;}#sk-container-id-1 div.sk-item::before, #sk-container-id-1 div.sk-parallel-item::before {content: \"\";position: absolute;border-left: 1px solid gray;box-sizing: border-box;top: 0;bottom: 0;left: 50%;z-index: -1;}#sk-container-id-1 div.sk-parallel-item {display: flex;flex-direction: column;z-index: 1;position: relative;background-color: white;}#sk-container-id-1 div.sk-parallel-item:first-child::after {align-self: flex-end;width: 50%;}#sk-container-id-1 div.sk-parallel-item:last-child::after {align-self: flex-start;width: 50%;}#sk-container-id-1 div.sk-parallel-item:only-child::after {width: 0;}#sk-container-id-1 div.sk-dashed-wrapped {border: 1px dashed gray;margin: 0 0.4em 0.5em 0.4em;box-sizing: border-box;padding-bottom: 0.4em;background-color: white;}#sk-container-id-1 div.sk-label label {font-family: monospace;font-weight: bold;display: inline-block;line-height: 1.2em;}#sk-container-id-1 div.sk-label-container {text-align: center;}#sk-container-id-1 div.sk-container {/* jupyter's `normalize.less` sets `[hidden] { display: none; }` but bootstrap.min.css set `[hidden] { display: none !important; }` so we also need the `!important` here to be able to override the default hidden behavior on the sphinx rendered scikit-learn.org. See: https://github.com/scikit-learn/scikit-learn/issues/21755 */display: inline-block !important;position: relative;}#sk-container-id-1 div.sk-text-repr-fallback {display: none;}</style><div id=\"sk-container-id-1\" class=\"sk-top-container\"><div class=\"sk-text-repr-fallback\"><pre>NMF(max_iter=10, n_components=10, random_state=42)</pre><b>In a Jupyter environment, please rerun this cell to show the HTML representation or trust the notebook. <br />On GitHub, the HTML representation is unable to render, please try loading this page with nbviewer.org.</b></div><div class=\"sk-container\" hidden><div class=\"sk-item\"><div class=\"sk-estimator sk-toggleable\"><input class=\"sk-toggleable__control sk-hidden--visually\" id=\"sk-estimator-id-1\" type=\"checkbox\" checked><label for=\"sk-estimator-id-1\" class=\"sk-toggleable__label sk-toggleable__label-arrow\">NMF</label><div class=\"sk-toggleable__content\"><pre>NMF(max_iter=10, n_components=10, random_state=42)</pre></div></div></div></div></div>"
            ],
            "text/plain": [
              "NMF(max_iter=10, n_components=10, random_state=42)"
            ]
          },
          "execution_count": 16,
          "metadata": {},
          "output_type": "execute_result"
        }
      ],
      "source": [
        "# Fit the NMF model\n",
        "NUM_TOPICS = 10\n",
        "\n",
        "nmf = NMF(n_components=NUM_TOPICS,max_iter=10, random_state=42)\n",
        "nmf.fit(vectorized_text)"
      ]
    },
    {
      "cell_type": "code",
      "execution_count": 17,
      "metadata": {
        "id": "YLNBp0Cz1zCm"
      },
      "outputs": [],
      "source": [
        "# Display the topics\n",
        "no_top_words = 10\n",
        "display_topics(nmf, vectorizer.get_feature_names_out(), no_top_words)\n",
        "\n",
        "# Normalize the vectorized text\n",
        "normalizer = Normalizer()\n",
        "normalized_text = normalizer.fit_transform(vectorized_text)"
      ]
    },
    {
      "cell_type": "code",
      "execution_count": 18,
      "metadata": {
        "id": "zsq8Tod314yx"
      },
      "outputs": [],
      "source": [
        "# Reduce the dimensionality of the vectorized text\n",
        "svd = TruncatedSVD(n_components=50, random_state=42)\n",
        "tsvd_text = svd.fit_transform(normalized_text)\n",
        "tsne = TSNE(random_state=42)\n",
        "tsne_text = tsne.fit_transform(tsvd_text)\n"
      ]
    },
    {
      "cell_type": "code",
      "execution_count": null,
      "metadata": {
        "colab": {
          "base_uri": "https://localhost:8080/",
          "height": 817
        },
        "id": "wMVjzft72BHV",
        "outputId": "920a0d4c-6c2b-400f-b4d3-8b67e12ec9b8"
      },
      "outputs": [],
      "source": [
        "# Create a scatter plot of the t-SNE reduced data\n",
        "trace = go.Scattergl(\n",
        "    x = tsne_text[:,0],\n",
        "    y = tsne_text[:,1],\n",
        "    mode = 'markers',\n",
        "    marker = dict(\n",
        "        color = df['articles'].astype('category').cat.codes,\n",
        "        colorscale = 'Jet',\n",
        "        line = dict(width = 1)\n",
        "    ),\n",
        "    text = df['articles'],\n",
        "    hovertext = df['cleaned_articles'],\n",
        "    hoverinfo = 'text' \n",
        ")\n",
        "\n",
        "data = [trace]\n",
        "layout = go.Layout(\n",
        "    autosize=False,\n",
        "    width=800,\n",
        "    height=800\n",
        ")\n",
        "fig = go.Figure(data=data, layout=layout)\n",
        "iplot(fig)\n"
      ]
    },
    {
      "cell_type": "code",
      "execution_count": null,
      "metadata": {
        "colab": {
          "base_uri": "https://localhost:8080/"
        },
        "id": "5xH8Lqws7PqM",
        "outputId": "862f4fdc-b003-44a2-c944-59d19079ab01"
      },
      "outputs": [],
      "source": [
        "# Get the feature names from the TfidfVectorizer object\n",
        "feature_names = vectorizer.get_feature_names_out()\n",
        "\n",
        "# Print top 10 words per topic\n",
        "for i, topic in enumerate(nmf.components_):\n",
        "    print(f\"Top 10 words for topic #{i}:\")\n",
        "    print([feature_names[index] for index in topic.argsort()[-10:]])\n",
        "    print('\\n')"
      ]
    },
    {
      "cell_type": "markdown",
      "metadata": {
        "id": "G_e-lFaGHYrC"
      },
      "source": [
        "#Evaluasi Error"
      ]
    },
    {
      "cell_type": "code",
      "execution_count": null,
      "metadata": {
        "colab": {
          "base_uri": "https://localhost:8080/"
        },
        "id": "9yO18xXZHC9I",
        "outputId": "040cc84c-58f5-4f33-c658-d1124a3e6631"
      },
      "outputs": [],
      "source": [
        "reconstruction_error = nmf.reconstruction_err_\n",
        "\n",
        "# print reconstruction error\n",
        "print(\"Reconstruction error:\", reconstruction_error)"
      ]
    },
    {
      "cell_type": "code",
      "execution_count": null,
      "metadata": {
        "colab": {
          "base_uri": "https://localhost:8080/"
        },
        "id": "6o9R_IqYHXf0",
        "outputId": "97184085-9bea-4913-da06-f55e6f1949cc"
      },
      "outputs": [],
      "source": [
        "from sklearn.metrics import silhouette_score\n",
        "\n",
        "# membuat model NMF\n",
        "\n",
        "\n",
        "# assign cluster labels untuk data\n",
        "cluster_labels = nmf.transform(vectorized_text).argmax(axis=1)\n",
        "\n",
        "# hitung silhouette score\n",
        "silhouette_avg = silhouette_score(vectorized_text, cluster_labels)\n",
        "\n",
        "# print silhouette score\n",
        "print(\"Silhouette score:\", silhouette_avg)"
      ]
    },
    {
      "cell_type": "code",
      "execution_count": null,
      "metadata": {
        "id": "Btr0AvSCKMoZ"
      },
      "outputs": [],
      "source": [
        "from gensim.parsing.preprocessing import (\n",
        "    strip_non_alphanum,\n",
        "    split_alphanum,\n",
        "    strip_short,\n",
        "    strip_numeric\n",
        ")\n",
        "import gensim\n",
        "\n",
        "from gensim.models import Phrases\n",
        "\n",
        "def sent_to_words(sentences):\n",
        "    for sentence in sentences:\n",
        "        # deacc=True removes punctuations\n",
        "        yield(gensim.utils.simple_preprocess(str(sentence), deacc=True))"
      ]
    },
    {
      "cell_type": "code",
      "execution_count": null,
      "metadata": {
        "id": "zGXnoXNbL83u"
      },
      "outputs": [],
      "source": [
        "from gensim.corpora import Dictionary\n",
        "from gensim.models.coherencemodel import CoherenceModel\n",
        "\n",
        "x = df['cleaned_articles'].values.tolist()\n",
        "# membuat kamus kata\n",
        "docs = list(sent_to_words(x))\n",
        "dictionary = Dictionary(docs)\n",
        "# membuat representasi bag-of-words dari dokumen\n",
        "corpus = [dictionary.doc2bow(doc) for doc in docs]"
      ]
    },
    {
      "cell_type": "code",
      "execution_count": null,
      "metadata": {
        "colab": {
          "base_uri": "https://localhost:8080/"
        },
        "id": "dFih2K2qIm5l",
        "outputId": "e3d27b4a-21a0-49b4-a990-ccac9322156f"
      },
      "outputs": [],
      "source": [
        "\n",
        "\n",
        "# membuat model NMF\n",
        "nmf_model = Nmf(corpus=corpus, num_topics=10)\n",
        "\n",
        "# hitung coherence score\n",
        "coherence_model = CoherenceModel(model=nmf_model, texts=docs, dictionary=dictionary, coherence='c_v')\n",
        "coherence_score = coherence_model.get_coherence()\n",
        "\n",
        "# print coherence score\n",
        "print(\"Coherence score:\", coherence_score)\n"
      ]
    },
    {
      "cell_type": "code",
      "execution_count": null,
      "metadata": {
        "id": "yQZwHpgkOVdt"
      },
      "outputs": [],
      "source": [
        "from wordcloud import WordCloud\n",
        "# Generate a word cloud image for given topic\n",
        "def draw_word_cloud(index):\n",
        "  imp_words_topic=\"\"\n",
        "  comp=nmf.components_[index]\n",
        "  vocab_comp = zip(feature_names, comp)\n",
        "  sorted_words = sorted(vocab_comp, key= lambda x:x[1], reverse=True)[:50]\n",
        "  for word in sorted_words:\n",
        "    imp_words_topic=imp_words_topic+\" \"+word[0]\n",
        "\n",
        "  wordcloud = WordCloud(width=600, height=400).generate(imp_words_topic)\n",
        "  plt.figure( figsize=(5,5))\n",
        "  plt.imshow(wordcloud)\n",
        "  plt.axis(\"off\")\n",
        "  plt.tight_layout()\n",
        "  plt.show()"
      ]
    },
    {
      "cell_type": "code",
      "execution_count": null,
      "metadata": {
        "colab": {
          "base_uri": "https://localhost:8080/",
          "height": 345
        },
        "id": "5RLl0BAvOX5J",
        "outputId": "e97fcb47-a20c-4dd2-f2d8-3d689c9a0fcf"
      },
      "outputs": [],
      "source": [
        "draw_word_cloud(0)"
      ]
    },
    {
      "cell_type": "code",
      "execution_count": null,
      "metadata": {
        "colab": {
          "base_uri": "https://localhost:8080/",
          "height": 345
        },
        "id": "5RuYYBAGa_Qe",
        "outputId": "77314042-2ff7-4a01-d9ba-189b93e11057"
      },
      "outputs": [],
      "source": [
        "draw_word_cloud(1)"
      ]
    }
  ],
  "metadata": {
    "colab": {
      "provenance": []
    },
    "kernelspec": {
      "display_name": "Python 3",
      "name": "python3"
    },
    "language_info": {
      "codemirror_mode": {
        "name": "ipython",
        "version": 3
      },
      "file_extension": ".py",
      "mimetype": "text/x-python",
      "name": "python",
      "nbconvert_exporter": "python",
      "pygments_lexer": "ipython3",
      "version": "3.9.13"
    }
  },
  "nbformat": 4,
  "nbformat_minor": 0
}
